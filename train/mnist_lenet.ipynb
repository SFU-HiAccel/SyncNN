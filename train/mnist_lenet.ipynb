{
  "nbformat": 4,
  "nbformat_minor": 0,
  "metadata": {
    "colab": {
      "name": "mnist_lenet.ipynb",
      "provenance": [],
      "collapsed_sections": []
    },
    "kernelspec": {
      "name": "python3",
      "display_name": "Python 3"
    },
    "language_info": {
      "name": "python"
    }
  },
  "cells": [
    {
      "cell_type": "code",
      "metadata": {
        "id": "uErWCwhPxsRO"
      },
      "source": [
        "import keras\n",
        "import numpy as np\n",
        "import tensorflow as tf\n",
        "from keras import optimizers\n",
        "from keras.datasets import mnist\n",
        "from keras.models import Sequential\n",
        "from keras.layers import Conv2D, Dense, Flatten, MaxPooling2D, AveragePooling2D, Dropout\n",
        "from keras.callbacks import LearningRateScheduler, TensorBoard\n",
        "from keras.initializers import he_normal\n",
        "import matplotlib.pyplot as plt\n",
        "from keras import backend\n",
        "\n",
        "def build_model():\n",
        "  model= Sequential()\n",
        "  model.add(Conv2D(32,(3,3),padding='valid',use_bias=False,kernel_initializer='glorot_uniform',activation='relu',input_shape=(28,28,1)))\n",
        "  model.add(Dropout(0.4))\n",
        "  model.add(AveragePooling2D((2,2),strides=(2,2)))\n",
        "  model.add(Conv2D(32,(3,3),padding='valid',use_bias=False,kernel_initializer='glorot_uniform',activation='relu'))\n",
        "  model.add(Dropout(0.4))\n",
        "  model.add(AveragePooling2D((2,2),strides=(2,2)))\n",
        "  model.add(Flatten())\n",
        "  model.add(Dense(256,kernel_initializer='glorot_uniform',use_bias=False, activation='relu'))\n",
        "  model.add(Dense(10,kernel_initializer='glorot_uniform',use_bias=False,activation='softmax'))\n",
        "  opt = optimizers.Adam(lr=.001)\n",
        "  model.compile(loss='categorical_crossentropy', optimizer=opt, metrics=['accuracy'])\n",
        "  return model\n",
        "\n",
        "#load data\n",
        "(x_train,y_train),(x_test,y_test)=mnist.load_data()\n",
        "print(x_train.shape)\n",
        "print(x_test.shape)\n",
        "y_train = keras.utils.to_categorical(y_train, 10)\n",
        "y_test = keras.utils.to_categorical(y_test, 10)\n",
        "x_train = x_train.astype('float32')\n",
        "x_test = x_test.astype('float32')\n",
        "x_train=(x_train)/255\n",
        "x_test=(x_test)/255\n",
        "x_train=tf.expand_dims(x_train,-1)\n",
        "x_test=tf.expand_dims(x_test,-1)\n",
        "print(x_train.shape)\n",
        "print(x_test.shape)\n",
        "\n",
        "model=build_model()\n",
        "print(model.summary())\n",
        "\n",
        "history=model.fit(x_train, y_train,batch_size=120,epochs=100, validation_data=(x_test, y_test),shuffle=True)\n",
        "\n",
        "model.save('mnist_network.h5')\n",
        "plt.plot(history.history['loss'])\n",
        "plt.plot(history.history['val_loss'])\n",
        "plt.legend(['train', 'val'])\n",
        "plt.show()"
      ],
      "execution_count": null,
      "outputs": []
    }
  ]
}